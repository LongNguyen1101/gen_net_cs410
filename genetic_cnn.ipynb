{
 "cells": [
  {
   "cell_type": "code",
   "execution_count": 27,
   "metadata": {},
   "outputs": [],
   "source": [
    "import random\n",
    "import numpy as np\n",
    "\n",
    "from deap import base, creator, tools, algorithms\n",
    "from scipy.stats import bernoulli\n",
    "\n",
    "from tensorflow.keras.datasets import fashion_mnist"
   ]
  },
  {
   "cell_type": "code",
   "execution_count": 111,
   "metadata": {},
   "outputs": [],
   "source": [
    "import init_model"
   ]
  },
  {
   "cell_type": "markdown",
   "metadata": {},
   "source": []
  },
  {
   "cell_type": "code",
   "execution_count": 110,
   "metadata": {},
   "outputs": [
    {
     "data": {
      "text/plain": [
       "<module 'init_model' from '/Users/longnguyen/Desktop/School/SEM6/CS410.O21_MNVTGDT/Project/genCNNv2/init_model.py'>"
      ]
     },
     "execution_count": 110,
     "metadata": {},
     "output_type": "execute_result"
    }
   ],
   "source": [
    "import importlib\n",
    "importlib.reload(init_model)"
   ]
  },
  {
   "cell_type": "code",
   "execution_count": 36,
   "metadata": {},
   "outputs": [],
   "source": [
    "def get_bit_idx(num_nodes):\n",
    "    L =  0 # genome length\n",
    "    BITS_INDICES = np.empty((0, 2),dtype = np.int32)\n",
    "    start = 0\n",
    "    end = 0\n",
    "\n",
    "    for x in num_nodes:\n",
    "        end = end + sum(range(x))\n",
    "        BITS_INDICES = np.vstack([BITS_INDICES, [start, end]])\n",
    "        start = end\n",
    "    L = end\n",
    "\n",
    "    return L, BITS_INDICES"
   ]
  },
  {
   "cell_type": "code",
   "execution_count": 5,
   "metadata": {},
   "outputs": [],
   "source": [
    "# Load the dataset\n",
    "(train_images, train_labels), (test_images, test_labels) = fashion_mnist.load_data()\n",
    "\n",
    "# Normalize the images to a range of 0 to 1\n",
    "train_images, test_images = train_images / 255.0, test_images / 255.0\n",
    "\n",
    "# Reshape the data to include the channel dimension\n",
    "train_images = train_images.reshape((train_images.shape[0], 28, 28, 1))\n",
    "test_images = test_images.reshape((test_images.shape[0], 28, 28, 1))\n"
   ]
  },
  {
   "cell_type": "code",
   "execution_count": 126,
   "metadata": {},
   "outputs": [],
   "source": [
    "STAGES = np.array([\"s1\", \"s2\"]) # S\n",
    "NUM_NODES = np.array([3, 4]) # K\n",
    "NUM_LABELS = 10\n",
    "FILTERS = np.array([32, 64])\n",
    "L, BITS_INDICES = get_bit_idx(NUM_NODES)\n",
    "\n",
    "POPULATION_SIZE = 20\n",
    "NUM_GEN = 20\n",
    "\n",
    "TRAINING_EPOCHS = 10"
   ]
  },
  {
   "cell_type": "code",
   "execution_count": 84,
   "metadata": {},
   "outputs": [],
   "source": [
    "def evaluate_model(individual):\n",
    "    model = init_model.generate_model(individual, STAGES, NUM_NODES, BITS_INDICES, FILTERS, NUM_LABELS)\n",
    "\n",
    "    model.fit(train_images, train_labels, epochs=TRAINING_EPOCHS, validation_data=(test_images, test_labels))\n",
    "    \n",
    "    test_loss, test_acc = model.evaluate(test_images, test_labels, verbose=2)\n",
    "    \n",
    "    return test_acc, \n"
   ]
  },
  {
   "cell_type": "code",
   "execution_count": 127,
   "metadata": {},
   "outputs": [
    {
     "name": "stdout",
     "output_type": "stream",
     "text": [
      "Epoch 1/10\n"
     ]
    }
   ],
   "source": [
    "random.seed(11)\n",
    "\n",
    "# Kiểm tra creator đã được khởi tạo với hai lớp FitnessMax và Individual hay chưa\n",
    "if not hasattr(creator, \"FitnessMax\"):\n",
    "    # Tạo ra một lớp FitnessMax mở rộng từ lớp Fitness (base class của DEAP),\n",
    "    # được sử dụng để tối đa hoá đơn mục tiêu, giá trị Fitness càng cao càng tốt (weights=(1.0,))\n",
    "    creator.create(\"FitnessMax\", base.Fitness, weights=(1.0,))\n",
    "if not hasattr(creator, \"Individual\"):\n",
    "    # Tạo ra một lớp Individual có dạng là list, thuộc tính fitness là một instance của FitnessMax\n",
    "    creator.create(\"Individual\", list, fitness=creator.FitnessMax)\n",
    "\n",
    "\n",
    "toolbox = base.Toolbox()\n",
    "hof = tools.HallOfFame(POPULATION_SIZE * L)\n",
    "\n",
    "# Đăng ký một hàm có tên là binary được dùng để tạo ra một giá trị\n",
    "#nhị phân theo phân phối bernoulli với xác suất 0.5 cho 1 và 0.5 cho 0\n",
    "toolbox.register(\"binary\", bernoulli.rvs, 0.5) \n",
    "\n",
    "# Đăng lý một hàm có tên là individual được gọi lặp lại để tạo ra một cá thể có L biến nhị phân,\n",
    "# sử dụng lớp Individual được tạo ở trên \n",
    "toolbox.register(\"individual\", tools.initRepeat, creator.Individual, toolbox.binary, n = L)\n",
    "\n",
    "# Đăng ký một hàm có tên là population được gọi lặp lại để tạo ra một quần thể các cá thể (list individual), \n",
    "# mỗi cá thể được tạo ra bằng hàm individual\n",
    "toolbox.register(\"population\", tools.initRepeat, list , toolbox.individual)\n",
    "\n",
    "# Đăng ký một hàm lai ghép có tên là mate sử dụng hàm cxOrdered để hoán vị các biến\n",
    "toolbox.register(\"mate\", tools.cxOrdered)\n",
    "\n",
    "# Đăng ký một hàm đột biến tên là mutate, sử dụng hàm mutShuffleIndexes để hoán đổi các index của các biến\n",
    "# với xác suất đột biến là 0.8\n",
    "toolbox.register(\"mutate\", tools.mutShuffleIndexes, indpb = 0.8)\n",
    "\n",
    "# Đăng ký một hàm chọn lọc với tên là select, sử dụng chiến lược chọn lọc roulette wheel\n",
    "toolbox.register(\"select\", tools.selRoulette)\n",
    "\n",
    "# Đăng ký một hàm đánh giá tên là evaluate sử dụng hàm evaluateModel được định nghĩa ở trên\n",
    "toolbox.register(\"evaluate\", evaluate_model)\n",
    "\n",
    "# Tạo ra một population với số lượng các cá thể là n\n",
    "popl = toolbox.population(n = POPULATION_SIZE)\n",
    "\n",
    "stats = tools.Statistics(lambda ind: ind.fitness.values)\n",
    "stats.register(\"avg\", np.mean)\n",
    "stats.register(\"std\", np.std)\n",
    "stats.register(\"min\", np.min)\n",
    "stats.register(\"max\", np.max)\n",
    "\n",
    "# Sử dụng simple evolutionary algorithm được cung cấp với DEAP\n",
    "# với popl được tạo ra ở trên\n",
    "# xác suất lai ghép là 0.4\n",
    "# xác suất đột biến là 0.05\n",
    "# số lượng thế hệ\n",
    "# và in ra thông tin của quá trình thực thi\n",
    "\n",
    "pop, log = algorithms.eaSimple(popl, toolbox, cxpb = 0.4, mutpb = 0.05, ngen = NUM_GEN, stats=stats, halloffame=hof, verbose = True)"
   ]
  },
  {
   "cell_type": "code",
   "execution_count": 107,
   "metadata": {},
   "outputs": [
    {
     "name": "stdout",
     "output_type": "stream",
     "text": [
      "[0, 0, 0]   0.8374000191688538\n",
      "[0, 0, 0]   0.8267999887466431\n"
     ]
    }
   ],
   "source": [
    "# print top optimal solutions \n",
    "best_individuals = tools.selBest(popl, k = 3)\n",
    "for bi in best_individuals:\n",
    "    print(bi, \" \", bi.fitness.values[0])"
   ]
  },
  {
   "cell_type": "code",
   "execution_count": null,
   "metadata": {},
   "outputs": [],
   "source": [
    "model = init_model.generate_model(best_individuals[0], STAGES, NUM_NODES, BITS_INDICES, FILTERS, NUM_LABELS)\n",
    "model.summary()"
   ]
  }
 ],
 "metadata": {
  "kernelspec": {
   "display_name": "gennetvenv",
   "language": "python",
   "name": "python3"
  },
  "language_info": {
   "codemirror_mode": {
    "name": "ipython",
    "version": 3
   },
   "file_extension": ".py",
   "mimetype": "text/x-python",
   "name": "python",
   "nbconvert_exporter": "python",
   "pygments_lexer": "ipython3",
   "version": "3.11.0"
  }
 },
 "nbformat": 4,
 "nbformat_minor": 2
}
